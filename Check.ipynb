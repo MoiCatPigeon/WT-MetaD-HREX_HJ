{
 "cells": [
  {
   "cell_type": "code",
   "execution_count": 1,
   "id": "49498b28-8df2-4b8b-ac08-ed9751678ce6",
   "metadata": {},
   "outputs": [],
   "source": [
    "import plumed\n",
    "import matplotlib.pyplot as plt\n",
    "import numpy as np\n",
    "np.random.seed(1977) # makes notebook reproducible"
   ]
  },
  {
   "cell_type": "code",
   "execution_count": 2,
   "id": "2ac77820-98bd-4154-9709-00317024687a",
   "metadata": {},
   "outputs": [],
   "source": [
    "kBT=1.2388545199729883*2"
   ]
  },
  {
   "cell_type": "code",
   "execution_count": 8,
   "id": "c3b18ccc-f9b8-45c4-968c-0aa729affdf2",
   "metadata": {},
   "outputs": [
    {
     "name": "stdout",
     "output_type": "stream",
     "text": [
      "/Users/zhang/Documents/work/xerxes/work/HJ/metaD/isoii/fourreplicas\n"
     ]
    }
   ],
   "source": [
    "# Go to the directory\n",
    "# !ls\n",
    "\n",
    "#%cd ~/Documents/work/xerxes/work/HJ/metaD/isoi/\n",
    "%cd ~/Documents/work/xerxes/work/HJ/metaD/isoii/fourreplicas/"
   ]
  },
  {
   "cell_type": "code",
   "execution_count": 17,
   "id": "e1fab607-388a-484b-a39e-54847aeb5dec",
   "metadata": {},
   "outputs": [
    {
     "data": {
      "text/plain": [
       "'/Users/zhang/Documents/work/xerxes/work/HJ/metaD/test'"
      ]
     },
     "execution_count": 17,
     "metadata": {},
     "output_type": "execute_result"
    }
   ],
   "source": [
    "# Check current directory\n",
    "import os\n",
    "\n",
    "os.getcwd()"
   ]
  },
  {
   "cell_type": "code",
   "execution_count": 18,
   "id": "cd722a20-b6a7-4927-9f3d-dfb46a5c37d1",
   "metadata": {},
   "outputs": [
    {
     "name": "stdout",
     "output_type": "stream",
     "text": [
      "COLVAR.0                    coord3.png\n",
      "COLVAR.1                    coord4.png\n",
      "COLVAR.2                    coord5.png\n",
      "COLVAR.3                    demux_traj.py\n",
      "COLVAR.4                    fep0.png\n",
      "COLVAR.5                    fep1.png\n",
      "COLVAR_reweight0            fep2.png\n",
      "COLVAR_reweight1            fep3.png\n",
      "COLVAR_reweight2            fep4.png\n",
      "COLVAR_reweight3            fep5.png\n",
      "COLVAR_reweight4            fep_isoi_reweighted.png\n",
      "COLVAR_reweight5            fes.1.dat\n",
      "COORD_traj0                 fes.10.dat\n",
      "COORD_traj1                 fes.100.dat\n",
      "COORD_traj2                 fes.2.dat\n",
      "COORD_traj3                 fes.20.dat\n",
      "COORD_traj4                 fes.3.dat\n",
      "COORD_traj5                 fes.4.dat\n",
      "GHBFIX.cpp                  fes.5.dat\n",
      "GHBFIX.o                    fes.50.dat\n",
      "\u001b[31mGHBFIX.so\u001b[m\u001b[m*                  fes.png\n",
      "HILLS.0                     fes0.dat\n",
      "HILLS.1                     fes2.dat\n",
      "HILLS.2                     fes3.dat\n",
      "HILLS.3                     fes4.dat\n",
      "HILLS.4                     fes5.dat\n",
      "HILLS.5                     fes_200.png\n",
      "HJ_closed.gro               ffcoord0.dat\n",
      "HJ_closed0.top              ffcoord1.dat\n",
      "HJ_closed0.tpr              ffcoord2.dat\n",
      "HJ_closed0.xtc              ffcoord3.dat\n",
      "HJ_closed1.top              ffcoord4.dat\n",
      "HJ_closed1.tpr              ffcoord5.dat\n",
      "HJ_closed1.xtc              ffisoi0.dat\n",
      "HJ_closed2.top              ffisoi1.dat\n",
      "HJ_closed2.tpr              ffisoi2.dat\n",
      "HJ_closed2.xtc              ffisoi3.dat\n",
      "HJ_closed3.top              ffisoi4.dat\n",
      "HJ_closed3.tpr              ffisoi5.dat\n",
      "HJ_closed3.xtc              gHBfix_v1.3\n",
      "HJ_closed4.top              h1234_weight\n",
      "HJ_closed4.tpr              hosts_file\n",
      "HJ_closed4.xtc              hrex.mdp\n",
      "HJ_closed5.top              md0.log\n",
      "HJ_closed5.tpr              md1.log\n",
      "HJ_closed5.xtc              md2.log\n",
      "HJ_closed_MetaD_test.e2595  md3.log\n",
      "HJ_closed_MetaD_test.e2596  md4.log\n",
      "HJ_closed_MetaD_test.o2595  md5.log\n",
      "HJ_closed_MetaD_test.o2596  open.pdb\n",
      "all_coord_traj.png          plum-coord.dat\n",
      "bck.0.COLVAR_reweight0      plum-reweight.dat\n",
      "bck.0.ffcoord.dat           plumed.dat\n",
      "bck.0.ffisoi.dat            ref.pdb\n",
      "\u001b[31mblock.sh\u001b[m\u001b[m*                   replica_index.xvg\n",
      "\u001b[34mconvergence\u001b[m\u001b[m/                replica_temp.xvg\n",
      "coord0.png                  \u001b[31mrun-md_gmx.sh\u001b[m\u001b[m*\n",
      "coord1.png                  scalingParameters.dat\n",
      "coord2.png                  typesTable.dat\n"
     ]
    }
   ],
   "source": [
    "%ls"
   ]
  },
  {
   "cell_type": "code",
   "execution_count": 4,
   "id": "b9fd567e-9fde-4efa-bc10-fb49216a0bd4",
   "metadata": {},
   "outputs": [
    {
     "name": "stderr",
     "output_type": "stream",
     "text": [
      "/Applications/PyMOL.app/Contents/lib/python3.7/site-packages/ipykernel_launcher.py:5: UserWarning: cannot load PLUMED instance, conversions will not be available\n",
      "  \"\"\"\n"
     ]
    }
   ],
   "source": [
    "colvar_all = []\n",
    "\n",
    "# This is the main run\n",
    "for i in range(0,6):\n",
    "    colvar_all.append(plumed.read_as_pandas(\"COLVAR_reweight{}\".format(i)))\n"
   ]
  },
  {
   "cell_type": "code",
   "execution_count": 33,
   "id": "14751d38-4067-4eca-83db-a61d4c778350",
   "metadata": {},
   "outputs": [
    {
     "name": "stdout",
     "output_type": "stream",
     "text": [
      "[          time       isoi        h12        h34  metad.bias\n",
      "0          0.0  37.208996  87.418201  92.196632  191.461819\n",
      "1          1.0  35.508849  87.418066  79.767734  195.495039\n",
      "2          2.0  35.040668  91.712261  72.431880  195.223427\n",
      "3          3.0  35.352920  87.835181  78.258312  195.456313\n",
      "4          4.0  35.892297  87.657820  82.281016  195.224549\n",
      "...        ...        ...        ...        ...         ...\n",
      "9996    9996.0  37.366766  90.957524  89.809195  190.670740\n",
      "9997    9997.0  33.343004  81.195080  70.635518  192.066106\n",
      "9998    9998.0  35.801439  84.070604  85.178480  195.345049\n",
      "9999    9999.0  35.752301  90.052965  78.965024  195.396799\n",
      "10000  10000.0  33.652000  75.459937  78.420200  192.998059\n",
      "\n",
      "[10001 rows x 5 columns],           time       isoi        h12        h34  metad.bias\n",
      "0          0.0  37.208996  87.418201  92.196632  188.288097\n",
      "1          1.0  36.613809  91.343905  83.903490  190.486657\n",
      "2          2.0  33.090904  72.298602  77.676078  188.180983\n",
      "3          3.0  33.990940  77.180753  79.084187  190.612835\n",
      "4          4.0  34.072659  81.563045  75.319667  190.822392\n",
      "...        ...        ...        ...        ...         ...\n",
      "9996    9996.0  26.152341  65.438978  40.043916  167.435361\n",
      "9997    9997.0  28.089908  71.198332  46.269617  171.715125\n",
      "9998    9998.0  27.398816  80.051595  35.259845  170.259943\n",
      "9999    9999.0   3.964137   1.639375   4.311310  162.965278\n",
      "10000  10000.0   4.206256   1.602656   5.002319  162.206579\n",
      "\n",
      "[10001 rows x 5 columns],           time       isoi        h12        h34  metad.bias\n",
      "0          0.0  37.208996  87.418201  92.196632  184.348775\n",
      "1          1.0  37.329693  92.986144  87.532299  183.805703\n",
      "2          2.0  32.747583  78.664276  69.000823  183.753732\n",
      "3          3.0  36.056378  82.509947  88.633928  187.488478\n",
      "4          4.0  34.031064  75.751853  80.821631  186.844528\n",
      "...        ...        ...        ...        ...         ...\n",
      "9996    9996.0  30.118082  56.347962  73.788458  176.565923\n",
      "9997    9997.0  31.627738  61.362135  78.885833  180.600907\n",
      "9998    9998.0   3.924706   1.410733   4.541329  167.865491\n",
      "9999    9999.0  26.179714  75.627120  32.137505  166.364056\n",
      "10000  10000.0  28.998991  84.714200  40.489032  173.751561\n",
      "\n",
      "[10001 rows x 5 columns],           time       isoi        h12        h34  metad.bias\n",
      "0          0.0  37.208996  87.418201  92.196632  178.897362\n",
      "1          1.0  35.265435  89.582270  75.978879  183.118793\n",
      "2          2.0  36.529108  87.786746  86.783227  181.257551\n",
      "3          3.0  36.550188  91.699544  83.098531  181.193185\n",
      "4          4.0  37.283682  87.644690  92.525919  178.562575\n",
      "...        ...        ...        ...        ...         ...\n",
      "9996    9996.0   4.336852   1.683748   5.237444  171.666871\n",
      "9997    9997.0   4.029413   1.427395   4.792237  173.281353\n",
      "9998    9998.0  29.669568  47.098873  81.287208  173.286883\n",
      "9999    9999.0  29.935362  54.155915  74.950653  173.978271\n",
      "10000  10000.0  30.014727  49.778106  80.551945  174.174109\n",
      "\n",
      "[10001 rows x 5 columns],           time       isoi        h12        h34  metad.bias\n",
      "0          0.0  37.208996  87.418201  92.196632  174.341823\n",
      "1          1.0  36.175539  86.452313  85.524817  177.277247\n",
      "2          2.0  35.249157  83.926254  81.328715  178.782311\n",
      "3          3.0  32.985816  66.235646  83.315754  177.540261\n",
      "4          4.0  36.750178  92.928677  83.359236  175.892858\n",
      "...        ...        ...        ...        ...         ...\n",
      "9996    9996.0  34.402153  81.814610  77.385599  178.742173\n",
      "9997    9997.0  36.057944  83.360051  87.776845  177.550957\n",
      "9998    9998.0  34.747469  79.292636  82.360950  178.874614\n",
      "9999    9999.0  34.218892  81.066172  76.829705  178.578289\n",
      "10000  10000.0   2.764023   2.492627   0.929219  182.985084\n",
      "\n",
      "[10001 rows x 5 columns],           time       isoi        h12        h34  metad.bias\n",
      "0          0.0  37.208996  87.418201  92.196632  169.145039\n",
      "1          1.0  35.501166  81.969960  85.109243  173.130011\n",
      "2          2.0  35.988812  92.698028  78.132161  172.428908\n",
      "3          3.0  35.438684  80.111099  86.549162  173.225703\n",
      "4          4.0  34.157059  73.986356  83.552692  174.092439\n",
      "...        ...        ...        ...        ...         ...\n",
      "9996    9996.0   2.700184   1.964222   1.238755  187.220114\n",
      "9997    9997.0   2.697366   2.303543   0.965215  187.232517\n",
      "9998    9998.0   2.703361   2.063022   1.161535  187.206437\n",
      "9999    9999.0   2.826908   2.367117   1.119421  186.862513\n",
      "10000  10000.0  35.155404  83.206800  81.368925  173.560733\n",
      "\n",
      "[10001 rows x 5 columns]]\n"
     ]
    }
   ],
   "source": [
    "print(colvar_all)"
   ]
  },
  {
   "cell_type": "code",
   "execution_count": 3,
   "id": "8e29e02d-472f-443b-89c3-3da75a086df5",
   "metadata": {},
   "outputs": [],
   "source": [
    "# Return average and error with bootstrap\n",
    "# nblocks: number of blocks\n",
    "# discard: discarded fraction\n",
    "def analyze(traj,nblocks,discard=0):\n",
    "    l=int(len(traj)*(1.0-discard))\n",
    "    # make sure the number of frames is a multiple of nblocks (discard the first few frames)\n",
    "    l=(l//nblocks)*nblocks\n",
    "    b=np.array(traj[\"metad.bias\"])\n",
    "    b-=np.max(b) # avoid overflows\n",
    "    w=np.exp(b/kBT)[-l:].reshape((nblocks,-1)) # weights\n",
    "    isA=np.int_(traj[\"lambda\"]==0)[-l:].reshape((nblocks,-1)) # 1 if in A\n",
    "    isB=np.int_(traj[\"lambda\"]==np.max(traj[\"lambda\"]))[-l:].reshape((nblocks,-1)) # 1 if in B\n",
    "    B=200 # number of bootstrap iterations\n",
    "    boot=np.random.choice(nblocks,size=(B,nblocks))\n",
    "    popA=np.average(isA[boot],axis=(1,2),weights=w[boot])\n",
    "    popB=np.average(isB[boot],axis=(1,2),weights=w[boot])\n",
    "    df=np.log(popA/popB) # this is in kBT units\n",
    "    popA0=np.average(isA,weights=w)\n",
    "    popB0=np.average(isB,weights=w)\n",
    "    return np.log(popA0/popB0),np.std(df)\n",
    "\n",
    "# time-averaged potential, computed averaging over the final 25%\n",
    "def time_average(hills,t0=0.75):\n",
    "    n0=int(len(hills)*t0)\n",
    "    w=np.hstack((np.ones(n0),np.linspace(1.0,0.0,len(hills)-n0)))\n",
    "    hills=hills.copy()\n",
    "    hills.height*=w\n",
    "    return hills\n",
    "\n",
    "# bias potential computed from hills\n",
    "# can be used to recompute V(lambda) given the hills file\n",
    "# can be used on a hills file produced by time_average()\n",
    "# the result is an array with V for each lambda index\n",
    "def metad_bias(hills):\n",
    "    bias=[]\n",
    "    for i in range(np.max(hills[\"lambda\"]+1)):\n",
    "        bias.append(np.sum(np.array(hills[\"lambda\"]==i,dtype=int)*hills[\"height\"]/hills[\"biasf\"]*(hills[\"biasf\"]-1)))\n",
    "    return np.array(bias)"
   ]
  },
  {
   "cell_type": "code",
   "execution_count": 7,
   "id": "81deb59e-17e7-4fa2-9729-aac424f71e79",
   "metadata": {},
   "outputs": [
    {
     "name": "stderr",
     "output_type": "stream",
     "text": [
      "/Applications/PyMOL.app/Contents/lib/python3.7/site-packages/ipykernel_launcher.py:4: UserWarning: cannot load PLUMED instance, conversions will not be available\n",
      "  after removing the cwd from sys.path.\n"
     ]
    }
   ],
   "source": [
    "# Read HILLS files\n",
    "hills_all=[]\n",
    "for i in range(0,6):\n",
    "    hills_all.append(plumed.read_as_pandas(\"HILLS.{}\".format(i)))"
   ]
  },
  {
   "cell_type": "code",
   "execution_count": 10,
   "id": "b94331ba-4d9b-4bc3-bab8-6fd02459667d",
   "metadata": {},
   "outputs": [
    {
     "data": {
      "text/plain": [
       "6"
      ]
     },
     "execution_count": 10,
     "metadata": {},
     "output_type": "execute_result"
    }
   ],
   "source": [
    "len(hills_all)"
   ]
  },
  {
   "cell_type": "raw",
   "id": "cea14653-5d50-4d78-a4b6-6d2dee0997fe",
   "metadata": {},
   "source": [
    "I now analyze all the trajectories. I am using three different approaches:\n",
    "\n",
    "use only the static potential fraction (last 1 ns)\n",
    "use the 3 to 4 ns fraction, assuming bias has always been the final one (this is the standard reweighting discussed in the tutorial)\n",
    "use the 3 to 4 ns fraction, assuming bias has always been the time average of the bias on that interval (this is compulsory when using non-well-tempered metadynamics, and should be recommended with well-tempered metadynamics as well if biasfactor is high)\n",
    "Notice that the usual trick to obtain the time-averaged potential is to scale hills hight with a factor going lineary to zero from, say t=3 to t=4 ns. This is analytically equivalent to averaging the potential. See the time_average() function above"
   ]
  },
  {
   "cell_type": "code",
   "execution_count": 8,
   "id": "6f0185bb-26bb-4096-b887-cdd6ccef7085",
   "metadata": {},
   "outputs": [
    {
     "name": "stdout",
     "output_type": "stream",
     "text": [
      "                time       s13       s24  sigma_s13  sigma_s24    height  \\\n",
      "0       2.000000e+00  5.616748  5.756478       0.16       0.16  2.678571   \n",
      "1       4.000000e+00  5.581061  5.689951       0.16       0.16  2.511398   \n",
      "2       6.000000e+00  5.563928  5.295557       0.16       0.16  2.667093   \n",
      "3       8.000000e+00  5.887675  5.666837       0.16       0.16  2.609920   \n",
      "4       1.000000e+01  5.384134  5.431600       0.16       0.16  2.577396   \n",
      "...              ...       ...       ...        ...        ...       ...   \n",
      "499995  9.999920e+05  4.427057  1.070771       0.16       0.16  0.015125   \n",
      "499996  9.999940e+05  4.336646  1.045048       0.16       0.16  0.015508   \n",
      "499997  9.999960e+05  4.928701  1.115684       0.16       0.16  0.014953   \n",
      "499998  9.999980e+05  4.984211  1.120322       0.16       0.16  0.015124   \n",
      "499999  1.000000e+06  4.511696  1.131418       0.16       0.16  0.014608   \n",
      "\n",
      "        biasf  \n",
      "0          15  \n",
      "1          15  \n",
      "2          15  \n",
      "3          15  \n",
      "4          15  \n",
      "...       ...  \n",
      "499995     15  \n",
      "499996     15  \n",
      "499997     15  \n",
      "499998     15  \n",
      "499999     15  \n",
      "\n",
      "[500000 rows x 7 columns]\n",
      "                time       s13       s24  sigma_s13  sigma_s24        height  \\\n",
      "0       2.000000e+00  5.616748  5.756478       0.16       0.16  2.678571e+00   \n",
      "1       4.000000e+00  5.581061  5.689951       0.16       0.16  2.511398e+00   \n",
      "2       6.000000e+00  5.563928  5.295557       0.16       0.16  2.667093e+00   \n",
      "3       8.000000e+00  5.887675  5.666837       0.16       0.16  2.609920e+00   \n",
      "4       1.000000e+01  5.384134  5.431600       0.16       0.16  2.577396e+00   \n",
      "...              ...       ...       ...        ...        ...           ...   \n",
      "499995  9.999920e+05  4.427057  1.070771       0.16       0.16  4.033490e-07   \n",
      "499996  9.999940e+05  4.336646  1.045048       0.16       0.16  3.101675e-07   \n",
      "499997  9.999960e+05  4.928701  1.115684       0.16       0.16  1.993743e-07   \n",
      "499998  9.999980e+05  4.984211  1.120322       0.16       0.16  1.008280e-07   \n",
      "499999  1.000000e+06  4.511696  1.131418       0.16       0.16  0.000000e+00   \n",
      "\n",
      "        biasf  \n",
      "0          15  \n",
      "1          15  \n",
      "2          15  \n",
      "3          15  \n",
      "4          15  \n",
      "...       ...  \n",
      "499995     15  \n",
      "499996     15  \n",
      "499997     15  \n",
      "499998     15  \n",
      "499999     15  \n",
      "\n",
      "[500000 rows x 7 columns]\n"
     ]
    }
   ],
   "source": [
    "# Generate time average result\n",
    "ave_hills_all = []\n",
    "for i in range(len(hills_all)):\n",
    "    ave_hills_all.append(time_average(hills_all[i],0.7))\n",
    "\n",
    "print(hills_all[0])\n",
    "print(ave_hills_all[0])"
   ]
  },
  {
   "cell_type": "code",
   "execution_count": 9,
   "id": "0a5bf1f9-4575-41da-a33a-edef3fb5136d",
   "metadata": {},
   "outputs": [],
   "source": [
    "# Save new time averaged HILLS files\n",
    "for i in range(len(ave_hills_all)):\n",
    "    np.savetxt(\"A_HILLS.{}\".format(i), ave_hills_all[i], delimiter = \" \",\n",
    "              header = \"#! FIELDS time s12 s34 sigma_s12 sigma_s34 height biasf\\n#! SET multivariate false\\n#! SET kerneltype gaussian\",\n",
    "              comments = '',\n",
    "              fmt = ['%23.9f','%22.13f','%22.13f','%22.1f','%22.1f','%22.13f', '%22u'])\n"
   ]
  },
  {
   "cell_type": "code",
   "execution_count": null,
   "id": "ebffccd6-32cc-45ba-aa1e-316dec4991b5",
   "metadata": {},
   "outputs": [],
   "source": [
    "dd=[]\n",
    "for i in range(len(colvar_all)):\n",
    "    df=colvar_all[i]\n",
    "    # analyze the static potential part\n",
    "    df1=df.loc[(df['time'] >= 4000)]\n",
    "    # analyze 3000-4000 ps assuming the final potential\n",
    "    df2=df.loc[(df['time'] <= 4000) & (df['time'] > 3000) ]\n",
    "    # analyze 3000-4000 ps assuming the time-averaged potential\n",
    "    df3=df.loc[(df['time'] <= 4000) & (df['time'] > 3000) ].copy()\n",
    "    df3[\"metad.bias\"]=metad_bias(time_average(hills_all[i]))[np.int_(df3[\"lambda\"])]   \n",
    "    dd.append((\n",
    "        analyze(df1,len(df1)//2500),\n",
    "        analyze(df2,len(df2)//2500),\n",
    "        analyze(df3,len(df3)//2500))\n",
    "    )\n",
    "dd=np.array(dd)\n",
    "# dd[i,j,k]\n",
    "# i=0..19 (iteration)\n",
    "# j=0..2 (method)\n",
    "# k=0..1 (average and stddev)\n"
   ]
  },
  {
   "cell_type": "code",
   "execution_count": 13,
   "id": "d98bd54d-6d15-46c1-b080-270381d54740",
   "metadata": {},
   "outputs": [],
   "source": [
    "!cd ~"
   ]
  }
 ],
 "metadata": {
  "kernelspec": {
   "display_name": "Python 3 (ipykernel)",
   "language": "python",
   "name": "python3"
  },
  "language_info": {
   "codemirror_mode": {
    "name": "ipython",
    "version": 3
   },
   "file_extension": ".py",
   "mimetype": "text/x-python",
   "name": "python",
   "nbconvert_exporter": "python",
   "pygments_lexer": "ipython3",
   "version": "3.7.12"
  }
 },
 "nbformat": 4,
 "nbformat_minor": 5
}
